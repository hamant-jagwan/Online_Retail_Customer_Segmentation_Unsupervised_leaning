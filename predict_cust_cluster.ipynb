{
 "cells": [
  {
   "cell_type": "markdown",
   "id": "6dbd2498",
   "metadata": {},
   "source": [
    "**Importing the libraries and pickle model**"
   ]
  },
  {
   "cell_type": "code",
   "execution_count": null,
   "id": "e79ce433",
   "metadata": {},
   "outputs": [],
   "source": [
    "import pickle\n",
    "import numpy as np\n",
    "\n",
    "# Load scaler and KMeans model\n",
    "with open(\"scaler.pkl\", \"rb\") as f:\n",
    "    loaded_scaler = pickle.load(f)\n",
    "\n",
    "with open(\"kmeans_model.pkl\", \"rb\") as f:\n",
    "    loaded_kmeans = pickle.load(f)"
   ]
  },
  {
   "cell_type": "markdown",
   "id": "b172db5e",
   "metadata": {},
   "source": [
    "**Taking input from the User**"
   ]
  },
  {
   "cell_type": "code",
   "execution_count": null,
   "id": "456c2264",
   "metadata": {},
   "outputs": [],
   "source": [
    "# Take RFM input from user\n",
    "recency = int(input(\"Enter Recency: \"))\n",
    "frequency = int(input(\"Enter Frequency: \"))\n",
    "monetary = int(input(\"Enter Monetary: \"))\n",
    "\n",
    "# Convert to numpy array\n",
    "new_customer = np.array([[recency, frequency, monetary]])"
   ]
  },
  {
   "cell_type": "markdown",
   "id": "9cf7ee59",
   "metadata": {},
   "source": [
    "**Preprocessing and predict**"
   ]
  },
  {
   "cell_type": "code",
   "execution_count": null,
   "id": "3742e3bb",
   "metadata": {},
   "outputs": [],
   "source": [
    "# Preprocess and predict\n",
    "new_customer_scaled = loaded_scaler.transform(new_customer)\n",
    "cluster = loaded_kmeans.predict(new_customer_scaled)[0]\n",
    "\n",
    "# Business-friendly output\n",
    "if cluster == 0:    \n",
    "    print(\"⚠️  This customer belongs to Cluster 0 → At Risk / Low Value\")\n",
    "else:\n",
    "    print(\"✅ This customer belongs to Cluster 1 → Loyal / High Value\")"
   ]
  }
 ],
 "metadata": {
  "language_info": {
   "name": "python"
  }
 },
 "nbformat": 4,
 "nbformat_minor": 5
}
